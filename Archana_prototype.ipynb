{
 "cells": [
  {
   "cell_type": "code",
   "execution_count": 1,
   "metadata": {},
   "outputs": [
    {
     "ename": "ImportError",
     "evalue": "No module named keras.models",
     "output_type": "error",
     "traceback": [
      "\u001b[1;31m---------------------------------------------------------------------------\u001b[0m",
      "\u001b[1;31mImportError\u001b[0m                               Traceback (most recent call last)",
      "\u001b[1;32m<ipython-input-1-453a4129810a>\u001b[0m in \u001b[0;36m<module>\u001b[1;34m()\u001b[0m\n\u001b[0;32m      5\u001b[0m \u001b[1;33m\u001b[0m\u001b[0m\n\u001b[0;32m      6\u001b[0m \u001b[1;33m\u001b[0m\u001b[0m\n\u001b[1;32m----> 7\u001b[1;33m \u001b[1;32mfrom\u001b[0m \u001b[0mkeras\u001b[0m\u001b[1;33m.\u001b[0m\u001b[0mmodels\u001b[0m \u001b[1;32mimport\u001b[0m \u001b[0mSequential\u001b[0m\u001b[1;33m\u001b[0m\u001b[0m\n\u001b[0m\u001b[0;32m      8\u001b[0m \u001b[1;32mfrom\u001b[0m \u001b[0mkeras\u001b[0m\u001b[1;33m.\u001b[0m\u001b[0mlayers\u001b[0m \u001b[1;32mimport\u001b[0m \u001b[0mDense\u001b[0m\u001b[1;33m,\u001b[0m \u001b[0mEmbedding\u001b[0m\u001b[1;33m,\u001b[0m \u001b[0mLSTM\u001b[0m\u001b[1;33m\u001b[0m\u001b[0m\n\u001b[0;32m      9\u001b[0m \u001b[1;32mfrom\u001b[0m \u001b[0msklearn\u001b[0m\u001b[1;33m.\u001b[0m\u001b[0mmodel_selection\u001b[0m \u001b[1;32mimport\u001b[0m \u001b[0mtrain_test_split\u001b[0m\u001b[1;33m\u001b[0m\u001b[0m\n",
      "\u001b[1;31mImportError\u001b[0m: No module named keras.models"
     ]
    }
   ],
   "source": [
    "import numpy as np\n",
    "import pandas as pd\n",
    "import nltk\n",
    "import re\n",
    "\n",
    "\n",
    "from keras.models import Sequential\n",
    "from keras.layers import Dense, Embedding, LSTM\n",
    "from sklearn.model_selection import train_test_split\n",
    "from keras.utils.np_utils import to_categorical\n",
    "from keras.preprocessing.text import Tokenizer\n",
    "from keras.preprocessing.sequence import pad_sequences\n",
    "from sklearn import preprocessing\n"
   ]
  },
  {
   "cell_type": "code",
   "execution_count": null,
   "metadata": {},
   "outputs": [],
   "source": [
    "raw_dataframe = pd.read_csv(\"nlpdata.txt\",sep=\",,,\",header=None ,names=['inquiry','ans']) #Our data is separate by ,,,, so that's gonna be our sep, we don't need header, and inquiry and ans will be our column names"
   ]
  },
  {
   "cell_type": "code",
   "execution_count": 3,
   "metadata": {
    "collapsed": true
   },
   "outputs": [],
   "source": [
    "raw_dataframe['ans']=raw_dataframe['ans'].str.strip() # Trying to clean all whitespaces, and blank char"
   ]
  },
  {
   "cell_type": "code",
   "execution_count": 4,
   "metadata": {
    "collapsed": true
   },
   "outputs": [],
   "source": [
    "raw_dataframe['inquiry'] = raw_dataframe['inquiry'].apply(lambda x: x.lower())#Converting all characters to lower, as capital char isn't gonna affect it's meaning\n",
    "raw_dataframe['inquiry'] = raw_dataframe['inquiry'].apply((lambda x: re.sub('[^a-zA-z0-9\\s]','',x))) #Trying to replace all the unwanted characters, with space."
   ]
  },
  {
   "cell_type": "code",
   "execution_count": 5,
   "metadata": {
    "collapsed": true
   },
   "outputs": [],
   "source": [
    "percentage_validation=0.20 #Keeping 20% of the data for validation set"
   ]
  },
  {
   "cell_type": "markdown",
   "metadata": {},
   "source": [
    "## Main Recurrent Neural Network Architecture"
   ]
  },
  {
   "cell_type": "code",
   "execution_count": 6,
   "metadata": {
    "collapsed": true
   },
   "outputs": [],
   "source": [
    "max_words_capacity = 20000 #Total number of words, in the embedding\n",
    "max_sentence_length = 30 # Max number of characters in the sentences"
   ]
  },
  {
   "cell_type": "code",
   "execution_count": 7,
   "metadata": {
    "collapsed": true
   },
   "outputs": [],
   "source": [
    "data=raw_dataframe.copy()"
   ]
  },
  {
   "cell_type": "code",
   "execution_count": 8,
   "metadata": {},
   "outputs": [
    {
     "name": "stdout",
     "output_type": "stream",
     "text": [
      "what           609\n",
      "who            402\n",
      "unknown        272\n",
      "affirmation    104\n",
      "when            96\n",
      "Name: ans, dtype: int64\n"
     ]
    }
   ],
   "source": [
    "print(data['ans'].value_counts()) # Just checking if data isn't skewed.\n",
    "\n",
    "tokenizer = Tokenizer(num_words=max_words_capacity, split=' ') # Splitting the sentences based on gaps \n",
    "tokenizer.fit_on_texts(data['inquiry'].values) # Fitting the tokenizer on text\n",
    "X = tokenizer.texts_to_sequences(data['inquiry'].values) # Finally converting strings to integer\n",
    "X = pad_sequences(X, maxlen=max_sentence_length) #Padding sequence to maximum length"
   ]
  },
  {
   "cell_type": "code",
   "execution_count": 12,
   "metadata": {},
   "outputs": [
    {
     "name": "stdout",
     "output_type": "stream",
     "text": [
      "Found 3685 unique tokens.\n",
      "Shape of data tensor: (1483, 30)\n",
      "Shape of label tensor: (1483, 5)\n"
     ]
    }
   ],
   "source": [
    "word_index = tokenizer.word_index\n",
    "print('Found %s unique tokens.' % len(word_index))\n",
    "\n",
    "Y = data['ans']\n",
    "convertor = preprocessing.LabelEncoder()\n",
    "convertor.fit(Y)\n",
    "Y=convertor.transform(Y) \n",
    "labels = to_categorical(np.asarray(Y))\n",
    "print('Shape of data tensor:', X.shape)\n",
    "print('Shape of label tensor:', labels.shape)\n",
    "\n",
    "\n",
    "# split the data into a training set and a validation set\n",
    "indices = np.arange(X.shape[0])\n",
    "# np.random.seed(0)\n",
    "np.random.shuffle(indices)\n",
    "X = X[indices]\n",
    "labels = labels[indices]\n",
    "total_val_samples = int(percentage_validation * X.shape[0])\n",
    "\n",
    "x_train = X[:-total_val_samples]\n",
    "y_train = labels[:-total_val_samples]\n",
    "x_val = X[-total_val_samples:]\n",
    "y_val = labels[-total_val_samples:]"
   ]
  },
  {
   "cell_type": "code",
   "execution_count": 13,
   "metadata": {},
   "outputs": [
    {
     "name": "stdout",
     "output_type": "stream",
     "text": [
      "Found 400000 word vectors.\n"
     ]
    }
   ],
   "source": [
    "embeddings_index = {}\n",
    "f = open('glove.6B.100d.txt', encoding=\"utf8\") #Download the glove embedding from here https://drive.google.com/open?id=1zwdYCA9dncuDE6dfYV7Tkph-5vRlMNfA+\n",
    "for line in f:\n",
    "    values = line.split()\n",
    "    word = values[0]\n",
    "    coefs = np.asarray(values[1:], dtype='float32')\n",
    "    embeddings_index[word] = coefs\n",
    "f.close()\n",
    "\n",
    "print('Found %s word vectors.' % len(embeddings_index))"
   ]
  },
  {
   "cell_type": "code",
   "execution_count": 14,
   "metadata": {
    "collapsed": true
   },
   "outputs": [],
   "source": [
    "word_dim=100"
   ]
  },
  {
   "cell_type": "code",
   "execution_count": 15,
   "metadata": {
    "collapsed": true
   },
   "outputs": [],
   "source": [
    "embedding_matrix = np.zeros((len(word_index) + 1, word_dim))\n",
    "for word, i in word_index.items():\n",
    "    embedding_vector = embeddings_index.get(word)\n",
    "    if embedding_vector is not None:\n",
    "        # words not found in embedding index will be all-zeros.\n",
    "        embedding_matrix[i] = embedding_vector"
   ]
  },
  {
   "cell_type": "code",
   "execution_count": 16,
   "metadata": {
    "collapsed": true
   },
   "outputs": [],
   "source": [
    "\n",
    "embedding_layer = Embedding(len(word_index) + 1,\n",
    "                            word_dim,\n",
    "                            weights=[embedding_matrix],\n",
    "                            input_length=max_sentence_length,\n",
    "                            trainable=False)"
   ]
  },
  {
   "cell_type": "markdown",
   "metadata": {},
   "source": [
    "### Deleted Module"
   ]
  },
  {
   "cell_type": "code",
   "execution_count": 18,
   "metadata": {},
   "outputs": [
    {
     "name": "stdout",
     "output_type": "stream",
     "text": [
      "Train on 1187 samples, validate on 296 samples\n",
      "Epoch 1/25\n",
      "1187/1187 [==============================] - 2s 1ms/step - loss: 1.3135 - acc: 0.4819 - val_loss: 1.0201 - val_acc: 0.6284\n",
      "Epoch 2/25\n",
      "1187/1187 [==============================] - 1s 594us/step - loss: 0.7868 - acc: 0.7152 - val_loss: 0.6087 - val_acc: 0.7804\n",
      "Epoch 3/25\n",
      "1187/1187 [==============================] - 1s 592us/step - loss: 0.5194 - acc: 0.8206 - val_loss: 0.4210 - val_acc: 0.8514\n",
      "Epoch 4/25\n",
      "1187/1187 [==============================] - 1s 600us/step - loss: 0.3638 - acc: 0.8922 - val_loss: 0.3132 - val_acc: 0.9122\n",
      "Epoch 5/25\n",
      "1187/1187 [==============================] - 1s 657us/step - loss: 0.2698 - acc: 0.9166 - val_loss: 0.3081 - val_acc: 0.9122\n",
      "Epoch 6/25\n",
      "1187/1187 [==============================] - 1s 641us/step - loss: 0.2236 - acc: 0.9393 - val_loss: 0.2675 - val_acc: 0.9257\n",
      "Epoch 7/25\n",
      "1187/1187 [==============================] - 1s 632us/step - loss: 0.1930 - acc: 0.9444 - val_loss: 0.2851 - val_acc: 0.9291\n",
      "Epoch 8/25\n",
      "1187/1187 [==============================] - 1s 607us/step - loss: 0.1588 - acc: 0.9553 - val_loss: 0.2303 - val_acc: 0.9459\n",
      "Epoch 9/25\n",
      "1187/1187 [==============================] - 1s 598us/step - loss: 0.1408 - acc: 0.9663 - val_loss: 0.2133 - val_acc: 0.9426\n",
      "Epoch 10/25\n",
      "1187/1187 [==============================] - 1s 605us/step - loss: 0.1559 - acc: 0.9553 - val_loss: 0.2350 - val_acc: 0.9358\n",
      "Epoch 11/25\n",
      "1187/1187 [==============================] - 1s 645us/step - loss: 0.1315 - acc: 0.9655 - val_loss: 0.2193 - val_acc: 0.9426\n",
      "Epoch 12/25\n",
      "1187/1187 [==============================] - 1s 616us/step - loss: 0.1037 - acc: 0.9705 - val_loss: 0.2074 - val_acc: 0.9595\n",
      "Epoch 13/25\n",
      "1187/1187 [==============================] - 1s 611us/step - loss: 0.0921 - acc: 0.9764 - val_loss: 0.1776 - val_acc: 0.9595\n",
      "Epoch 14/25\n",
      "1187/1187 [==============================] - 1s 611us/step - loss: 0.0861 - acc: 0.9773 - val_loss: 0.1955 - val_acc: 0.9527\n",
      "Epoch 15/25\n",
      "1187/1187 [==============================] - 1s 616us/step - loss: 0.0851 - acc: 0.9764 - val_loss: 0.1766 - val_acc: 0.9595\n",
      "Epoch 16/25\n",
      "1187/1187 [==============================] - 1s 614us/step - loss: 0.0766 - acc: 0.9798 - val_loss: 0.1753 - val_acc: 0.9696\n",
      "Epoch 17/25\n",
      "1187/1187 [==============================] - 1s 614us/step - loss: 0.0764 - acc: 0.9840 - val_loss: 0.1879 - val_acc: 0.9595\n",
      "Epoch 18/25\n",
      "1187/1187 [==============================] - 1s 618us/step - loss: 0.0760 - acc: 0.9781 - val_loss: 0.1937 - val_acc: 0.9595\n",
      "Epoch 19/25\n",
      "1187/1187 [==============================] - 1s 617us/step - loss: 0.0609 - acc: 0.9806 - val_loss: 0.1893 - val_acc: 0.9628\n",
      "Epoch 20/25\n",
      "1187/1187 [==============================] - 1s 619us/step - loss: 0.0661 - acc: 0.9806 - val_loss: 0.1873 - val_acc: 0.9595\n",
      "Epoch 21/25\n",
      "1187/1187 [==============================] - 1s 624us/step - loss: 0.0630 - acc: 0.9806 - val_loss: 0.1660 - val_acc: 0.9696\n",
      "Epoch 22/25\n",
      "1187/1187 [==============================] - 1s 635us/step - loss: 0.0529 - acc: 0.9848 - val_loss: 0.1798 - val_acc: 0.9628\n",
      "Epoch 23/25\n",
      "1187/1187 [==============================] - 1s 649us/step - loss: 0.0551 - acc: 0.9832 - val_loss: 0.1584 - val_acc: 0.9628\n",
      "Epoch 24/25\n",
      "1187/1187 [==============================] - 1s 646us/step - loss: 0.0593 - acc: 0.9823 - val_loss: 0.1992 - val_acc: 0.9595\n",
      "Epoch 25/25\n",
      "1187/1187 [==============================] - 1s 645us/step - loss: 0.0424 - acc: 0.9865 - val_loss: 0.2048 - val_acc: 0.9628\n"
     ]
    },
    {
     "data": {
      "text/plain": [
       "<keras.callbacks.History at 0x7f981be19940>"
      ]
     },
     "execution_count": 18,
     "metadata": {},
     "output_type": "execute_result"
    }
   ],
   "source": [
    "model.fit(x_train, y_train,\n",
    "          batch_size=50,\n",
    "          epochs=25,\n",
    "          validation_data=(x_val, y_val))"
   ]
  },
  {
   "cell_type": "raw",
   "metadata": {},
   "source": [
    "model.save_weights('archana.h5')"
   ]
  },
  {
   "cell_type": "code",
   "execution_count": 19,
   "metadata": {
    "collapsed": true
   },
   "outputs": [],
   "source": [
    "model.load_weights('archana.h5')"
   ]
  },
  {
   "cell_type": "code",
   "execution_count": 2,
   "metadata": {},
   "outputs": [
    {
     "ename": "NameError",
     "evalue": "name 'tokenizer' is not defined",
     "output_type": "error",
     "traceback": [
      "\u001b[1;31m---------------------------------------------------------------------------\u001b[0m",
      "\u001b[1;31mNameError\u001b[0m                                 Traceback (most recent call last)",
      "\u001b[1;32m<ipython-input-2-0837d4351ead>\u001b[0m in \u001b[0;36m<module>\u001b[1;34m()\u001b[0m\n\u001b[1;32m----> 1\u001b[1;33m \u001b[0mtest_sentence\u001b[0m \u001b[1;33m=\u001b[0m \u001b[0mtokenizer\u001b[0m\u001b[1;33m.\u001b[0m\u001b[0mtexts_to_sequences\u001b[0m\u001b[1;33m(\u001b[0m\u001b[1;33m[\u001b[0m\u001b[1;34m\"What time does the train leave\"\u001b[0m\u001b[1;33m]\u001b[0m\u001b[1;33m)\u001b[0m\u001b[1;33m\u001b[0m\u001b[0m\n\u001b[0m\u001b[0;32m      2\u001b[0m \u001b[0mtest_sentence\u001b[0m \u001b[1;33m=\u001b[0m \u001b[0mpad_sequences\u001b[0m\u001b[1;33m(\u001b[0m\u001b[0mtest_sentence\u001b[0m\u001b[1;33m,\u001b[0m \u001b[0mmaxlen\u001b[0m\u001b[1;33m=\u001b[0m\u001b[0mmax_sentence_length\u001b[0m\u001b[1;33m)\u001b[0m\u001b[1;33m\u001b[0m\u001b[0m\n\u001b[0;32m      3\u001b[0m \u001b[0mconvertor\u001b[0m\u001b[1;33m.\u001b[0m\u001b[0minverse_transform\u001b[0m\u001b[1;33m(\u001b[0m\u001b[0mnp\u001b[0m\u001b[1;33m.\u001b[0m\u001b[0margmax\u001b[0m\u001b[1;33m(\u001b[0m\u001b[0mmodel\u001b[0m\u001b[1;33m.\u001b[0m\u001b[0mpredict\u001b[0m\u001b[1;33m(\u001b[0m\u001b[0mtest_sentence\u001b[0m\u001b[1;33m)\u001b[0m\u001b[1;33m)\u001b[0m\u001b[1;33m)\u001b[0m\u001b[1;33m\u001b[0m\u001b[0m\n",
      "\u001b[1;31mNameError\u001b[0m: name 'tokenizer' is not defined"
     ]
    }
   ],
   "source": [
    "test_sentence = tokenizer.texts_to_sequences([\"What time does the train leave\"])\n",
    "test_sentence = pad_sequences(test_sentence, maxlen=max_sentence_length)\n",
    "convertor.inverse_transform(np.argmax(model.predict(test_sentence)))"
   ]
  },
  {
   "cell_type": "code",
   "execution_count": null,
   "metadata": {
    "collapsed": true
   },
   "outputs": [],
   "source": []
  },
  {
   "cell_type": "code",
   "execution_count": null,
   "metadata": {
    "collapsed": true
   },
   "outputs": [],
   "source": []
  },
  {
   "cell_type": "code",
   "execution_count": null,
   "metadata": {
    "collapsed": true
   },
   "outputs": [],
   "source": []
  }
 ],
 "metadata": {
  "anaconda-cloud": {},
  "kernelspec": {
   "display_name": "Python 2",
   "language": "python",
   "name": "python2"
  },
  "language_info": {
   "codemirror_mode": {
    "name": "ipython",
    "version": 2
   },
   "file_extension": ".py",
   "mimetype": "text/x-python",
   "name": "python",
   "nbconvert_exporter": "python",
   "pygments_lexer": "ipython2",
   "version": "2.7.14"
  }
 },
 "nbformat": 4,
 "nbformat_minor": 2
}
